{
 "cells": [
  {
   "cell_type": "code",
   "execution_count": 1,
   "id": "c29c3e6d",
   "metadata": {},
   "outputs": [],
   "source": [
    "import os\n",
    "\n",
    "import tifffile\n",
    "import torch\n",
    "import numpy as np\n",
    "import matplotlib.pyplot as plt\n",
    "import torch.nn.functional as F\n",
    "import wandb\n",
    "from torchvision import transforms as T\n",
    "import torchvision.transforms.functional as TF\n",
    "from torch.utils.data import DataLoader, Dataset\n",
    "from einops import rearrange\n",
    "from kmeans_pytorch import kmeans"
   ]
  },
  {
   "cell_type": "code",
   "execution_count": 2,
   "id": "1a5bd5f0",
   "metadata": {},
   "outputs": [
    {
     "name": "stderr",
     "output_type": "stream",
     "text": [
      "\u001b[34m\u001b[1mwandb\u001b[0m: Currently logged in as: \u001b[33mestorrs\u001b[0m (\u001b[33mtme-st\u001b[0m). Use \u001b[1m`wandb login --relogin`\u001b[0m to force relogin\n"
     ]
    },
    {
     "data": {
      "text/plain": [
       "True"
      ]
     },
     "execution_count": 2,
     "metadata": {},
     "output_type": "execute_result"
    }
   ],
   "source": [
    "wandb.login()"
   ]
  },
  {
   "cell_type": "code",
   "execution_count": 3,
   "id": "999c1f48",
   "metadata": {},
   "outputs": [],
   "source": [
    "%load_ext autoreload"
   ]
  },
  {
   "cell_type": "code",
   "execution_count": 4,
   "id": "92cab1b1",
   "metadata": {},
   "outputs": [],
   "source": [
    "%autoreload 2"
   ]
  },
  {
   "cell_type": "code",
   "execution_count": 5,
   "id": "b7c3451c",
   "metadata": {},
   "outputs": [],
   "source": [
    "from dino_extended.data.utils import listfiles, extract_ome_tiff, get_ome_tiff_channels, make_pseudo\n",
    "from dino_extended.data.multiplex import TileTransform, TileDataset, MultichannelAug\n",
    "from dino_extended.models.dino import Dino\n",
    "from dino_extended.models.vit import ViT, Recorder, Extractor"
   ]
  },
  {
   "cell_type": "code",
   "execution_count": null,
   "id": "98cb726b",
   "metadata": {},
   "outputs": [],
   "source": []
  },
  {
   "cell_type": "code",
   "execution_count": 6,
   "id": "0f32bf66",
   "metadata": {},
   "outputs": [
    {
     "data": {
      "text/plain": [
       "['/data/estorrs/mushroom/data/test_registration/HT397B1/registered/s1.ome.tiff',\n",
       " '/data/estorrs/mushroom/data/test_registration/HT397B1/registered/s2.ome.tiff']"
      ]
     },
     "execution_count": 6,
     "metadata": {},
     "output_type": "execute_result"
    }
   ],
   "source": [
    "fps = sorted(listfiles('/data/estorrs/mushroom/data/test_registration/HT397B1/registered/', regex=r'ome.tiff$'))\n",
    "fps"
   ]
  },
  {
   "cell_type": "code",
   "execution_count": 7,
   "id": "b30af429",
   "metadata": {},
   "outputs": [
    {
     "name": "stderr",
     "output_type": "stream",
     "text": [
      "/data/estorrs/miniconda3/envs/dino_extended/lib/python3.9/site-packages/ome_types/_convenience.py:106: FutureWarning: The default XML parser will be changing from 'xmlschema' to 'lxml' in version 0.4.0.  To silence this warning, please provide the `parser` argument, specifying either 'lxml' (to opt into the new behavior), or'xmlschema' (to retain the old behavior).\n",
      "  d = to_dict(os.fspath(xml), parser=parser, validate=validate)\n"
     ]
    },
    {
     "name": "stdout",
     "output_type": "stream",
     "text": [
      "['DAPI', 'CD8', 'Her2 (D)', 'GATA3 (D)', 'cKIT-(D)', 'Pan-Cytokeratin', 'GLUT1-(D)', 'Podoplanin', 'CD68 (D)', 'HLA-DR', 'Keratin 14', 'FoxP3', 'MGP-(D)', 'CD20-(D)', 'SMA-(D)', 'Ki67', 'Vimentin-(D)', 'PR-(D)', 'Bap1 (D)', 'CD45 (D)', 'ER', 'CD31', 'COX6c (D)', 'CK19', 'PLAT/tPA (D)']\n",
      "['DAPI', 'CD8', 'Her2 (D)', 'GATA3 (D)', 'cKIT-(D)', 'Pan-Cytokeratin', 'GLUT1-(D)', 'Podoplanin', 'CD68 (D)', 'HLA-DR', 'Keratin 14', 'FoxP3', 'MGP-(D)', 'CD20-(D)', 'SMA-(D)', 'Ki67', 'Vimentin-(D)', 'PR-(D)', 'Bap1 (D)', 'CD45 (D)', 'ER', 'CD31', 'COX6c (D)', 'CK19', 'PLAT/tPA (D)']\n"
     ]
    }
   ],
   "source": [
    "for fp in fps:\n",
    "    print(get_ome_tiff_channels(fps[0]))"
   ]
  },
  {
   "cell_type": "code",
   "execution_count": 8,
   "id": "d8993f06",
   "metadata": {},
   "outputs": [
    {
     "data": {
      "text/plain": [
       "['Bap1 (D)',\n",
       " 'CD20-(D)',\n",
       " 'CD31',\n",
       " 'CD45 (D)',\n",
       " 'CD68 (D)',\n",
       " 'CD8',\n",
       " 'CK19',\n",
       " 'COX6c (D)',\n",
       " 'DAPI',\n",
       " 'ER',\n",
       " 'FoxP3',\n",
       " 'GATA3 (D)',\n",
       " 'GLUT1-(D)',\n",
       " 'HLA-DR',\n",
       " 'Her2 (D)',\n",
       " 'Keratin 14',\n",
       " 'Ki67',\n",
       " 'MGP-(D)',\n",
       " 'PLAT/tPA (D)',\n",
       " 'PR-(D)',\n",
       " 'Pan-Cytokeratin',\n",
       " 'Podoplanin',\n",
       " 'SMA-(D)',\n",
       " 'Vimentin-(D)',\n",
       " 'cKIT-(D)']"
      ]
     },
     "execution_count": 8,
     "metadata": {},
     "output_type": "execute_result"
    }
   ],
   "source": [
    "channels = sorted(get_ome_tiff_channels(fps[0]))\n",
    "channels"
   ]
  },
  {
   "cell_type": "code",
   "execution_count": 9,
   "id": "df949017",
   "metadata": {},
   "outputs": [],
   "source": [
    "channels = [\n",
    "#     'CD68 (D)', not working in this batch\n",
    "    'CD20-(D)',\n",
    "    ('CD31', 98.),\n",
    "    ('CD45 (D)', 98.),\n",
    "    'CD8',\n",
    "    'CK19',\n",
    "    ('DAPI', 98.),\n",
    "    'ER',\n",
    "    ('FoxP3', 99.5),\n",
    "    'GATA3 (D)',\n",
    "    'GLUT1-(D)',\n",
    "    'HLA-DR',\n",
    "    'Her2 (D)',\n",
    "    ('Keratin 14', 98.),\n",
    "    'Ki67',\n",
    "    ('MGP-(D)', 98.),\n",
    "#     'PLAT/tPA (D)',\n",
    "    'PR-(D)',\n",
    "    ('Pan-Cytokeratin', 95.),\n",
    "    'Podoplanin',\n",
    "    'SMA-(D)',\n",
    "    'Vimentin-(D)',\n",
    "    'cKIT-(D)'\n",
    "]\n",
    "\n",
    "channel_names = [c if not isinstance(c, tuple) else c[0] for c in channels]"
   ]
  },
  {
   "cell_type": "code",
   "execution_count": 10,
   "id": "2e7313d3",
   "metadata": {},
   "outputs": [],
   "source": [
    "from skimage.exposure import rescale_intensity\n",
    "def preprocess_ome(fp, scale=None, default_contrast_pct=90., channels=None):\n",
    "    if channels is not None:\n",
    "        contrast_pcts = [default_contrast_pct if not isinstance(c, tuple) else c[1] for c in channels]\n",
    "        channels = [c if not isinstance(c, tuple) else c[0] for c in channels]\n",
    "    else:\n",
    "        channels = sorted(get_ome_tiff_channels(fp))\n",
    "        contrast_pcts = [default_contrast_pct] * len(channels)\n",
    "        \n",
    "    channel_to_img = extract_ome_tiff(fp, channels=channels)\n",
    "    \n",
    "    for c, contrast_pct in zip(channels, contrast_pcts):\n",
    "        print(c)\n",
    "        img = channel_to_img[c]\n",
    "        try:\n",
    "            vmax = np.percentile(img[img>0], (contrast_pct)) if np.count_nonzero(img) else 1.\n",
    "            img[img>vmax] = vmax\n",
    "            \n",
    "#             img = rescale_intensity(img, in_range=(0., vmax)).astype(np.float32)\n",
    "            img = img.astype(np.float32)\n",
    "            img -= img.min()\n",
    "            img /= img.max()\n",
    "            channel_to_img[c] = torch.tensor(img, dtype=torch.float32).unsqueeze(dim=0)\n",
    "#             plt.imshow(channel_to_img[c][0])\n",
    "#             plt.title(c)\n",
    "#             plt.show()\n",
    "        except IndexError:\n",
    "            print(f'channel {c} failed intensity rescaling')\n",
    "            \n",
    "    stacked = torch.concat([channel_to_img[c] for c in channels], dim=0)\n",
    "    \n",
    "    return stacked, channels"
   ]
  },
  {
   "cell_type": "code",
   "execution_count": null,
   "id": "d1bd910b",
   "metadata": {
    "scrolled": true
   },
   "outputs": [
    {
     "name": "stdout",
     "output_type": "stream",
     "text": [
      "/data/estorrs/mushroom/data/test_registration/HT397B1/registered/s1.ome.tiff\n",
      "CD20-(D)\n",
      "CD31\n",
      "CD45 (D)\n",
      "CD8\n",
      "CK19\n",
      "DAPI\n",
      "ER\n",
      "FoxP3\n"
     ]
    }
   ],
   "source": [
    "imgs = []\n",
    "for fp in fps:\n",
    "    print(fp)\n",
    "    stacked, _ = preprocess_ome(fp, default_contrast_pct=90., channels=channels)\n",
    "    imgs.append(stacked)\n",
    "len(imgs)"
   ]
  },
  {
   "cell_type": "code",
   "execution_count": null,
   "id": "459c55c9",
   "metadata": {},
   "outputs": [],
   "source": []
  },
  {
   "cell_type": "code",
   "execution_count": null,
   "id": "a920b17d",
   "metadata": {},
   "outputs": [],
   "source": []
  },
  {
   "cell_type": "code",
   "execution_count": null,
   "id": "5cca0abc",
   "metadata": {},
   "outputs": [],
   "source": [
    "size = (256, 256)\n",
    "scale = .5\n",
    "ds = TileDataset(imgs, size=size, scale=scale)"
   ]
  },
  {
   "cell_type": "code",
   "execution_count": null,
   "id": "9400ce0e",
   "metadata": {},
   "outputs": [],
   "source": [
    "tile = ds[0]\n",
    "tile.shape"
   ]
  },
  {
   "cell_type": "code",
   "execution_count": null,
   "id": "962ceb60",
   "metadata": {},
   "outputs": [],
   "source": [
    "plt.imshow(tile[channel_names.index('DAPI')])"
   ]
  },
  {
   "cell_type": "code",
   "execution_count": null,
   "id": "d74dcf38",
   "metadata": {},
   "outputs": [],
   "source": []
  },
  {
   "cell_type": "code",
   "execution_count": null,
   "id": "9ed56cc5",
   "metadata": {},
   "outputs": [],
   "source": []
  },
  {
   "cell_type": "code",
   "execution_count": null,
   "id": "39680b40",
   "metadata": {},
   "outputs": [],
   "source": [
    "means, stds = imgs[0].mean(dim=(-2, -1)), imgs[0].std(dim=(-2, -1))\n",
    "means, stds"
   ]
  },
  {
   "cell_type": "code",
   "execution_count": null,
   "id": "9b69dc19",
   "metadata": {},
   "outputs": [],
   "source": []
  },
  {
   "cell_type": "code",
   "execution_count": null,
   "id": "fa855127",
   "metadata": {},
   "outputs": [],
   "source": [
    "batch_size = 64\n",
    "dl = DataLoader(ds, batch_size=batch_size, shuffle=True, num_workers=10)"
   ]
  },
  {
   "cell_type": "code",
   "execution_count": null,
   "id": "1fdb2c12",
   "metadata": {},
   "outputs": [],
   "source": [
    "b = next(iter(dl))\n",
    "b.shape"
   ]
  },
  {
   "cell_type": "code",
   "execution_count": null,
   "id": "a5d8a75b",
   "metadata": {},
   "outputs": [],
   "source": [
    "n_image_channels = len(channel_names)"
   ]
  },
  {
   "cell_type": "code",
   "execution_count": null,
   "id": "649b9f55",
   "metadata": {},
   "outputs": [],
   "source": []
  },
  {
   "cell_type": "code",
   "execution_count": null,
   "id": "697eeeee",
   "metadata": {},
   "outputs": [],
   "source": [
    "from pathlib import Path\n",
    "project = 'codex_dino'\n",
    "run_dir = f'/data/estorrs/DINO-extended/data/runs/HT397B1/{project}'\n",
    "log_dir = os.path.join(run_dir, 'logs')\n",
    "chkpt_dir = os.path.join(run_dir, 'chkpts')\n",
    "Path(log_dir).mkdir(parents=True, exist_ok=True)\n",
    "Path(chkpt_dir).mkdir(parents=True, exist_ok=True)"
   ]
  },
  {
   "cell_type": "code",
   "execution_count": null,
   "id": "6755dc14",
   "metadata": {},
   "outputs": [],
   "source": [
    "run = wandb.init(\n",
    "  project=project,\n",
    ")"
   ]
  },
  {
   "cell_type": "code",
   "execution_count": null,
   "id": "b345c119",
   "metadata": {},
   "outputs": [],
   "source": [
    "# wandb.finish()"
   ]
  },
  {
   "cell_type": "code",
   "execution_count": null,
   "id": "5c2ddd80",
   "metadata": {},
   "outputs": [],
   "source": [
    "config = {\n",
    "    'epochs': 1000,\n",
    "    'lr': 3e-4,\n",
    "    'batch_size': batch_size,\n",
    "    'vit': {\n",
    "        'image_size': size[0],\n",
    "        'channels': n_image_channels,\n",
    "        'patch_size': 32,\n",
    "        'num_classes': 100,\n",
    "        'dim': 1024,\n",
    "        'depth': 6,\n",
    "        'heads': 8,\n",
    "        'mlp_dim': 2048\n",
    "    },\n",
    "    'dino': {\n",
    "        'is_multichannel': True,\n",
    "        'n_image_channels': n_image_channels,\n",
    "        'means': list(means.numpy()),\n",
    "        'stds': list(stds.numpy()),\n",
    "        'image_size': size[0],\n",
    "        'hidden_layer': 'to_latent',\n",
    "        'projection_hidden_size': 256,      # projector network hidden dimension\n",
    "        'projection_layers': 4,             # number of layers in projection network\n",
    "        'num_classes_K': 65336,             # output logits dimensions (referenced as K in paper)\n",
    "        'student_temp': 0.9,                # student temperature\n",
    "        'teacher_temp': 0.04,               # teacher temperature, needs to be annealed from 0.04 to 0.07 over 30 epochs\n",
    "        'local_upper_crop_scale': 0.4,      # upper bound for local crop - 0.4 was recommended in the paper \n",
    "        'global_lower_crop_scale': 0.5,     # lower bound for global crop - 0.5 was recommended in the paper\n",
    "        'moving_average_decay': 0.9,        # moving average of encoder - paper showed anywhere from 0.9 to 0.999 was ok\n",
    "        'center_moving_average_decay': 0.9, # moving average of teacher centers - paper showed anywhere from 0.9 to 0.999 was ok\n",
    "        'teacher_temps': list(np.linspace(.04, .07, 30))\n",
    "    }\n",
    "}\n",
    "\n",
    "wandb.config = config"
   ]
  },
  {
   "cell_type": "code",
   "execution_count": null,
   "id": "10711e48",
   "metadata": {},
   "outputs": [],
   "source": []
  },
  {
   "cell_type": "code",
   "execution_count": null,
   "id": "168a37a1",
   "metadata": {},
   "outputs": [],
   "source": [
    "model = ViT(\n",
    "    image_size = size[0],\n",
    "    channels = n_image_channels,\n",
    "    patch_size = 16,\n",
    "    num_classes = 100,\n",
    "    dim = 1024,\n",
    "    depth = 6,\n",
    "    heads = 8,\n",
    "    mlp_dim = 2048\n",
    ")"
   ]
  },
  {
   "cell_type": "code",
   "execution_count": null,
   "id": "6d8c84aa",
   "metadata": {},
   "outputs": [],
   "source": [
    "learner = Dino(\n",
    "    model,\n",
    "    is_multichannel=True,\n",
    "    n_image_channels=n_image_channels,\n",
    "    means=means,\n",
    "    stds=stds,\n",
    "    image_size = size[0],\n",
    "    hidden_layer = 'to_latent',        # hidden layer name or index, from which to extract the embedding\n",
    "    projection_hidden_size = 256,      # projector network hidden dimension\n",
    "    projection_layers = 4,             # number of layers in projection network\n",
    "    num_classes_K = 65336,             # output logits dimensions (referenced as K in paper)\n",
    "    student_temp = 0.9,                # student temperature\n",
    "    teacher_temp = 0.04,               # teacher temperature, needs to be annealed from 0.04 to 0.07 over 30 epochs\n",
    "    local_upper_crop_scale = 0.4,      # upper bound for local crop - 0.4 was recommended in the paper \n",
    "    global_lower_crop_scale = 0.5,     # lower bound for global crop - 0.5 was recommended in the paper\n",
    "    moving_average_decay = 0.9,        # moving average of encoder - paper showed anywhere from 0.9 to 0.999 was ok\n",
    "    center_moving_average_decay = 0.9, # moving average of teacher centers - paper showed anywhere from 0.9 to 0.999 was ok\n",
    ")"
   ]
  },
  {
   "cell_type": "code",
   "execution_count": null,
   "id": "0e617895",
   "metadata": {},
   "outputs": [],
   "source": [
    "def get_cluster_images(model, embeddings):\n",
    "    x = embeddings[:, 1:]\n",
    "    orig_shape = x.shape\n",
    "    x = rearrange(x, 'b p d -> (b p) d')\n",
    "    cluster_ids_x, cluster_centers = kmeans(\n",
    "        X=x, num_clusters=10, tol=1., distance='euclidean', device=torch.device('cuda:0')\n",
    "    )\n",
    "    reshaped = rearrange(cluster_ids_x, '(b p) -> b p', p=orig_shape[1])\n",
    "    img = rearrange(reshaped, 'b (h w) -> b h w', h=int(np.sqrt(orig_shape[1])))\n",
    "    \n",
    "    img = img.to(torch.float32)\n",
    "    img -= img.min()\n",
    "    img /= img.max()\n",
    "    \n",
    "    return img\n",
    "\n",
    "def log_media(model, dl, n_show=16, n_batches=5, channels=['DAPI', 'Pan-Cytokeratin', 'CD45 (D)']):\n",
    "    embeddings = []\n",
    "    imgs = None\n",
    "    v = Extractor(model)\n",
    "    with torch.no_grad():\n",
    "        for i, b in enumerate(dl):\n",
    "            if i == n_batches:\n",
    "                break\n",
    "            b = b.to(0)\n",
    "            _, embs = v(b)\n",
    "            embeddings.append(embs)\n",
    "            \n",
    "            if imgs is None:\n",
    "                imgs = b[:n_show, [channel_names.index(c) for c in channels]]\n",
    "    \n",
    "    embeddings = torch.concat(tuple(embeddings), dim=0)\n",
    "    cluster_imgs = get_cluster_images(model, embeddings)[:n_show].unsqueeze(dim=1).numpy()\n",
    "    cluster_imgs = rearrange(cluster_imgs, 'b c h w -> b h w c')\n",
    "    \n",
    "    pseudo = [np.expand_dims(make_pseudo(img.detach().cpu().numpy()), 0) for img in imgs]\n",
    "    pseudo = np.concatenate(pseudo, axis=0)\n",
    "    \n",
    "    wandb.log({\n",
    "        'train/pseudo': [wandb.Image(x) for x in pseudo],\n",
    "        'train/clustered': [wandb.Image(x) for x in cluster_imgs]\n",
    "    })\n",
    "    \n",
    "    v = v.eject()\n",
    "    \n",
    "\n",
    "    \n",
    "    return cluster_imgs, pseudo"
   ]
  },
  {
   "cell_type": "code",
   "execution_count": null,
   "id": "7fbe340a",
   "metadata": {},
   "outputs": [],
   "source": [
    "len(dl)"
   ]
  },
  {
   "cell_type": "code",
   "execution_count": null,
   "id": "550d99c6",
   "metadata": {},
   "outputs": [],
   "source": [
    "learner = learner.to(0)"
   ]
  },
  {
   "cell_type": "code",
   "execution_count": null,
   "id": "ce07d165",
   "metadata": {},
   "outputs": [],
   "source": [
    "teacher_temps = np.linspace(.04, .07, 30)\n",
    "teacher_temps"
   ]
  },
  {
   "cell_type": "code",
   "execution_count": null,
   "id": "394cb095",
   "metadata": {},
   "outputs": [],
   "source": [
    "epochs = config['epochs']\n",
    "lr = config['lr']\n",
    "opt = torch.optim.Adam(learner.parameters(), lr=lr)"
   ]
  },
  {
   "cell_type": "code",
   "execution_count": null,
   "id": "201fa4fc",
   "metadata": {},
   "outputs": [],
   "source": [
    "media_log_every = 10\n",
    "chkpt_every = 50"
   ]
  },
  {
   "cell_type": "code",
   "execution_count": null,
   "id": "cfa8f91b",
   "metadata": {},
   "outputs": [],
   "source": [
    "for e in range(epochs):\n",
    "    epoch_loss = None\n",
    "    for b in dl:\n",
    "        b = b.to(0)\n",
    "        loss = learner(b)\n",
    "        opt.zero_grad()\n",
    "        loss.backward()\n",
    "        opt.step()\n",
    "        learner.update_moving_average() # update moving average of teacher encoder and teacher centers\n",
    "        \n",
    "        if epoch_loss is None:\n",
    "            epoch_loss = loss.detach().cpu().item()\n",
    "        else:\n",
    "            epoch_loss += loss.detach().cpu().item()\n",
    "    result = {\"train/loss\": epoch_loss / len(dl), 'n_steps': e * len(dl) * batch_size, 'epoch': e}\n",
    "    print(result)\n",
    "    wandb.log(result)\n",
    "    if e % media_log_every == 0:\n",
    "        log_media(model, dl)\n",
    "    \n",
    "    if e < 29:\n",
    "        learner.teacher_temp = teacher_temps[e + 1]\n",
    "        \n",
    "    if e % chkpt_every == 0:\n",
    "        torch.save(model.state_dict(), os.path.join(chkpt_dir, f'{e}.pt'))\n",
    "    "
   ]
  },
  {
   "cell_type": "code",
   "execution_count": null,
   "id": "8270f0cc",
   "metadata": {},
   "outputs": [],
   "source": []
  },
  {
   "cell_type": "code",
   "execution_count": null,
   "id": "52f22c1e",
   "metadata": {},
   "outputs": [],
   "source": []
  },
  {
   "cell_type": "code",
   "execution_count": null,
   "id": "fb947fab",
   "metadata": {},
   "outputs": [],
   "source": []
  },
  {
   "cell_type": "code",
   "execution_count": null,
   "id": "ff8720ea",
   "metadata": {},
   "outputs": [],
   "source": []
  },
  {
   "cell_type": "code",
   "execution_count": null,
   "id": "6b8a82dc",
   "metadata": {},
   "outputs": [],
   "source": []
  },
  {
   "cell_type": "code",
   "execution_count": null,
   "id": "547bbbdc",
   "metadata": {},
   "outputs": [],
   "source": []
  },
  {
   "cell_type": "code",
   "execution_count": null,
   "id": "22e151d9",
   "metadata": {},
   "outputs": [],
   "source": []
  },
  {
   "cell_type": "code",
   "execution_count": null,
   "id": "0756476f",
   "metadata": {},
   "outputs": [],
   "source": []
  }
 ],
 "metadata": {
  "kernelspec": {
   "display_name": "Python 3 (ipykernel)",
   "language": "python",
   "name": "python3"
  },
  "language_info": {
   "codemirror_mode": {
    "name": "ipython",
    "version": 3
   },
   "file_extension": ".py",
   "mimetype": "text/x-python",
   "name": "python",
   "nbconvert_exporter": "python",
   "pygments_lexer": "ipython3",
   "version": "3.9.16"
  }
 },
 "nbformat": 4,
 "nbformat_minor": 5
}
